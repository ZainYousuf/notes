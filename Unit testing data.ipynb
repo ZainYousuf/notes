{
 "cells": [
  {
   "cell_type": "markdown",
   "metadata": {},
   "source": [
    "### Motivation for unit testing data\n",
    "\n",
    "At the onset on my career in data science, during one of the first competitions that I had participated in, I learnt an invaluable lesson - testing you data is just as important as testing your code.  After a few days spent on data cleaning, exploration and the development of (what I believed to be) an excellent classifier, I flipped the ```submit``` arg on my pipeline to ```True```, sat back and expected a glorious accuracy score. Instead, I received an obscure error message:\n",
    "\n",
    "```\n",
    "---------------------------------------------------------------------------\n",
    "ValueError                                Traceback (most recent call last)\n",
    "<ipython-input-9-ce7d1c56ae9f> in <module>()\n",
    "----> 2 std.transform(X_TEST)\n",
    "\n",
    "~/anaconda3/envs/explore/lib/python3.6/site-packages/sklearn/preprocessing/data.py in transform(self, X, y, copy)\n",
    "    690         else:\n",
    "    691             if self.with_mean:\n",
    "--> 692                 X -= self.mean_\n",
    "    693             if self.with_std:\n",
    "    694                 X /= self.scale_\n",
    "\n",
    "ValueError: operands could not be broadcast together with shapes (213,19) (20,) (213,19) \n",
    "```\n",
    "\n",
    "I say obscure for three reasons:\n",
    "\n",
    "  1. There were no fundemental changes to the code base - the only *major* alteration made was to some of the arguments passed to sklearns RandomForestClassifier\n",
    "  2. Components of the pipeline worked perfectly in isolation and no changes to the integration between components changed\n",
    "  3. The previously successful submission runs now broke consistently\n",
    "    \n",
    "It turns out that this issue was caused by not verifying the attributes of the data set against my assumptions:\n",
    "\n",
    "   - ```submit=True``` triggered bash script to ```wget``` the test data (built in mind with an \"encase more data is added to the test\" data set\")\n",
    "   - The competition hosts altered the data set to protect against a potential information leak\n",
    "   - The altered data set was one column shy of the original\n",
    "   - This resulted in different array sizes between training and test sets causing the obscure ValueError above\n",
    "\n",
    "The reason for this trip down memory lane is to firstly remind myself and newer data scientists that often we find ourselves working with a multitude of data sources, provided to us and mainted both external and internal business partners.  In some cases, we're privy and contribute to the ETL process from source, and in other cases are the recipients of data whose ETL process by not be directly available to scrutiny.  In either case, we often do not control the quality of the data in and are pretty much dependent on the upstream data source provider (as even when you're directly involved in the ELT from source, there is not gaurantee that the data will not experience a fundemental change in it's presentation over time).\n",
    "\n",
    "In a relatively short time my current potision, I've seen the erroneuos listing of new products as an old and expired variant ressulting in a massive overstatement of the old products financial performance, poor adherance to standard categorical vairable naming conventions lead to significant challenges on developing improved customer analytic records and missing or incorrect PII.\n",
    "\n",
    "Although these issues could be mitigated through improved data ingestion, verification and validation techniques, the reality is that mistakes do and will happen.  As data scientists it is our job to close the data governance loop, ensuring that incorrect or inaccurate information is identified prior to being presented to business / consumed by models and to work with the Data Engineering, DBA teams and business teams to correct any anomalous information at source.\n"
   ]
  },
  {
   "cell_type": "markdown",
   "metadata": {},
   "source": [
    "### Unit test your data\n",
    "\n",
    "Although the principle behind unit testing data differs from that of software (i.e. we test software primarily to ensure that changes to the code base do not affect the ability of the apllication to deliver the required results while we test data to ensure that events which we have little to no control over do not result in incorrect results, analysis, models or applications downstream) the idea is roughly the same:\n",
    "\n",
    "- Test cases should have a clear pass/fail criteria\n",
    "- They should cover as many potential failure points as possible (without over-burdening the developer)\n",
    "- And should be specific enough to cover nuances in the data which could affect the way it is used / interpreted in future\n",
    "\n",
    "I won't dive into strategies or best/worst practices for data unit testing as I don't think I have sufficient experience to recommend strategies for data testing and testing data is often extremely domain specific - what works in some indsutries may not be applicable to others (this holds at a BU and often more granular level as well).  However, I will touch on a few examples of tests which I have found useful and hope that whoever reads this could share tests which have worked fo.\n",
    "\n",
    "  1. Keep a versioned copy of data - baseline against which tests can run\n",
    "  2. Lean on domain expertise when writing tests\n",
    "  3. Write detailed tests with detailed failure messages (marbles!)\n",
    "\n"
   ]
  },
  {
   "cell_type": "markdown",
   "metadata": {},
   "source": [
    "#### 1.  Keep a versioned copy of data\n",
    "\n",
    "Keeping a versioned copy of data containing the critical attributes that you know future datasets should contain is a handy way of ensuring that you can *confidently* test new data.  Of course, this is not the perfect solution (as redundant data is bad) and in some cases simply querying your table may be sufficient.  As an example, if you're ingesting survey responses, it may be handy to keep a versioned copy to quickly reference previously listed questions and test these against new surveys while the streaming of call data records may be better suited to a query.\n",
    "\n",
    "A pitfall of actually keeping versioned data is the overhead associated with managing said data - how do you ensure that the version you're testing against is the latest and most correct version?  I haven't found the answer yet and would appreciate any guidance from more knowledgeable readers!  \n",
    "\n",
    "\n",
    "#### 2. Lean on domain expertise\n",
    "\n",
    "Hardly a day goes by in which I do not sit with our more experienced ETL specialists (who often have years working in the business, having dealt with stakeholders and specialists in every niche aspect of the industry) and ask questions like \"Do these values make sense?  Are these inferences from the field XXX reasonable?\".  \n",
    "\n",
    "Leveraging the experience of domain experts can dramatically improve the quality of the tests that you write, shorten the time spent writing said tests and expose business \"myths and fairytales\".  An example which comes to mind involved shifting the way a category of consumers were approached by breaking the old assumption about their data consumption habits allowing us to deliver an improved product set to meet their needs.\n",
    "\n",
    "Standing on the shoulders of giants is a great way to learn fast and fail less catastrophically.  Afterall, there's no point in paying your school fees twice.\n",
    "\n",
    "\n",
    "#### 3.  Write detailed tests\n",
    "\n",
    "One of the most difficult part of testing data (or testing any piece of software for that matter) is trying to understand the logic and assumptions behind the test suite.  Good coding habbits and great documentation can help mitigate this risk, however this often requires that we dig around the source code or test suite for guidance.\n",
    "\n",
    "I've recently started using [marbles](https://marbles.readthedocs.io/en/stable/) which is an extension of pythons unittest module which makes annotating unittest failure messages with significantly richer information.  I've dummied an example of marbles below for easy reference - note the explicit ```note``` revealing assumptions which would have otherwise been hidden in documentation and the ability to expose local variables which may be useful to provide additional context.\n",
    "\n",
    "As a final note, I highly recommend watching Jane Stewart Adams talk on marbles at PyData Amsterdam - video embded below. "
   ]
  },
  {
   "cell_type": "markdown",
   "metadata": {},
   "source": [
    "### Marbles example:"
   ]
  },
  {
   "cell_type": "code",
   "execution_count": 1,
   "metadata": {},
   "outputs": [
    {
     "name": "stderr",
     "output_type": "stream",
     "text": [
      "/home/zain/anaconda3/envs/explore/lib/python3.6/unittest/case.py:1086: DeprecationWarning: elementwise == comparison failed; this will raise an error in the future.\n",
      "  if member not in container:\n",
      "F\n",
      "======================================================================\n",
      "FAIL: test_no_new_channels (__main__.TestCategoricals)\n",
      "----------------------------------------------------------------------\n",
      "marbles.core.marbles.ContextualAssertionError: array(['A', 'B', 'C', 'D'], dtype=object) not found in array(['A', 'B', 'C'], dtype=object)\n",
      "\n",
      "Source (<ipython-input-1-067fc2d0ddb6>):\n",
      "     29 new_channel_ids = self.new_channel_ids\n",
      " >   30 self.assertCategoricalLevelIn(self.versioned_channel_ids.values, \n",
      "     31                               self.new_channel_ids.values,\n",
      "     32                               note=note)\n",
      "     33 \n",
      "Locals:\n",
      "\tnew_channel_ids=Index(['A', 'B', 'C'], dtype='object')\n",
      "Note:\n",
      "\tBusiness has 4 key channels which should be listed as part of all\n",
      "\tfinancial metric reports. The addition or removal of any channels means\n",
      "\tthat either there is an upstream data issue, or business is terrible\n",
      "\n",
      "\n",
      "----------------------------------------------------------------------\n",
      "Ran 1 test in 0.004s\n",
      "\n",
      "FAILED (failures=1)\n"
     ]
    },
    {
     "data": {
      "text/plain": [
       "<unittest.main.TestProgram at 0x7fa9c9a13240>"
      ]
     },
     "execution_count": 1,
     "metadata": {},
     "output_type": "execute_result"
    }
   ],
   "source": [
    "import pandas as pd\n",
    "from marbles.mixins import mixins\n",
    "import marbles.core\n",
    "\n",
    "#create dummy data to fail test\n",
    "versioned_data = pd.DataFrame(data={'channel_id':pd.Categorical(['A', 'B', 'C', 'D']),\n",
    "                                    'active_base': [100, 200, 250, 350]})\n",
    "new_data = new_data = pd.DataFrame(data={'channel_id':pd.Categorical(['A', 'B', 'C']),\n",
    "                                         'active_base':[108, 216, 645]})\n",
    "\n",
    "\n",
    "class TestCategoricals(marbles.core.TestCase, mixins.CategoricalMixins):\n",
    "    \n",
    "    def setUp(self):\n",
    "        self.versioned_data = versioned_data\n",
    "        self.versioned_channel_ids = self.versioned_data['channel_id'].cat.categories\n",
    "        self.new_data = new_data\n",
    "        self.new_channel_ids = self.new_data['channel_id'].cat.categories\n",
    "    \n",
    "    def test_no_new_channels(self):\n",
    "        \"\"\"\n",
    "        Test that no new channels have been added OR\n",
    "        that no channels have been removed\n",
    "        \"\"\"\n",
    "        note =  \"Business has 4 key channels which should be listed as\" \n",
    "        note += \" part of all financial metric reports.\"\n",
    "        note += \" The addition or removal of any channels means that either\" \n",
    "        note += \" there is an upstream data issue, or business is terrible\"\n",
    "        new_channel_ids = self.new_channel_ids\n",
    "        self.assertCategoricalLevelIn(self.versioned_channel_ids.values, \n",
    "                                      self.new_channel_ids.values,\n",
    "                                      note=note)\n",
    "        \n",
    "\n",
    "marbles.core.main(argv=['ignore'], exit=False)"
   ]
  },
  {
   "cell_type": "markdown",
   "metadata": {},
   "source": [
    "### Video:  Unit testing data with marbles"
   ]
  },
  {
   "cell_type": "code",
   "execution_count": 2,
   "metadata": {},
   "outputs": [
    {
     "data": {
      "image/jpeg": "[encoded data removed]",
      "text/html": [
       "\n",
       "        <iframe\n",
       "            width=\"400\"\n",
       "            height=\"300\"\n",
       "            src=\"https://www.youtube.com/embed/enlNiRSt9nk\"\n",
       "            frameborder=\"0\"\n",
       "            allowfullscreen\n",
       "        ></iframe>\n",
       "        "
      ],
      "text/plain": [
       "<IPython.lib.display.YouTubeVideo at 0x7fa9f8116c18>"
      ]
     },
     "execution_count": 2,
     "metadata": {},
     "output_type": "execute_result"
    }
   ],
   "source": [
    "from IPython.display import YouTubeVideo\n",
    "YouTubeVideo('enlNiRSt9nk')"
   ]
  },
  {
   "cell_type": "code",
   "execution_count": null,
   "metadata": {},
   "outputs": [],
   "source": []
  }
 ],
 "metadata": {
  "kernelspec": {
   "display_name": "Python 3",
   "language": "python",
   "name": "python3"
  },
  "language_info": {
   "codemirror_mode": {
    "name": "ipython",
    "version": 3
   },
   "file_extension": ".py",
   "mimetype": "text/x-python",
   "name": "python",
   "nbconvert_exporter": "python",
   "pygments_lexer": "ipython3",
   "version": "3.6.6"
  }
 },
 "nbformat": 4,
 "nbformat_minor": 2
}
